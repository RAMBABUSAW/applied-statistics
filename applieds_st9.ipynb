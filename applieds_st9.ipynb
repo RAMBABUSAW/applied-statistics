{
  "nbformat": 4,
  "nbformat_minor": 0,
  "metadata": {
    "colab": {
      "provenance": []
    },
    "kernelspec": {
      "name": "python3",
      "display_name": "Python 3"
    },
    "language_info": {
      "name": "python"
    }
  },
  "cells": [
    {
      "cell_type": "code",
      "execution_count": 1,
      "metadata": {
        "colab": {
          "base_uri": "https://localhost:8080/"
        },
        "id": "Zt9xGwWGFlbV",
        "outputId": "d83d9085-f7f1-41a4-d188-8802b49c2797"
      },
      "outputs": [
        {
          "output_type": "stream",
          "name": "stdout",
          "text": [
            "Empty DataFrame\n",
            "Columns: []\n",
            "Index: []\n"
          ]
        }
      ],
      "source": [
        "# CREATE AN EMPTY DATAFRAME\n",
        "import pandas as pd\n",
        "df=pd.DataFrame()\n",
        "print(df)\n"
      ]
    },
    {
      "cell_type": "code",
      "source": [
        "# CREAT DATAFRAME USING LIST:\n",
        "import pandas as pd\n",
        "x = [\"rohit\",\"pandas\"]\n",
        "df =pd.DataFrame(x)\n",
        "print(df)"
      ],
      "metadata": {
        "colab": {
          "base_uri": "https://localhost:8080/"
        },
        "id": "hTWQ6dTLHDQ0",
        "outputId": "cd8710cf-d3b7-4eb7-d1e5-cd9a09cd6166"
      },
      "execution_count": 2,
      "outputs": [
        {
          "output_type": "stream",
          "name": "stdout",
          "text": [
            "        0\n",
            "0   rohit\n",
            "1  pandas\n"
          ]
        }
      ]
    },
    {
      "cell_type": "code",
      "source": [
        "# CREAT A DATAFRAME FROM DIST OF ANARRAY LIST:\n",
        "import pandas as pd\n",
        "cd={\"ID\":[100,101,102],'Department':['B.sc','B.tech','M.tech']}\n",
        "df=pd.DataFrame(cd)\n",
        "print(df)\n"
      ],
      "metadata": {
        "colab": {
          "base_uri": "https://localhost:8080/"
        },
        "id": "rIil4fbVH6g2",
        "outputId": "dacf2a83-ba82-4cd4-d204-9ea9a8b66583"
      },
      "execution_count": 5,
      "outputs": [
        {
          "output_type": "stream",
          "name": "stdout",
          "text": [
            "    ID Department\n",
            "0  100       B.sc\n",
            "1  101     B.tech\n",
            "2  102     M.tech\n"
          ]
        }
      ]
    },
    {
      "cell_type": "code",
      "source": [
        "# CREAT DATAFRAME FROM DIST OF SERIES:\n",
        "import pandas as pd\n",
        "df={'one':pd.Series([1,2,3,4,5,6],index=['a','b','c','d','e','f']),'two':pd.Series([1,2,3,4,5,6,7,8],index=['a','b','c','d','e','f','g','h'])}\n",
        "d2=pd.DataFrame(df)\n",
        "print(d2)"
      ],
      "metadata": {
        "colab": {
          "base_uri": "https://localhost:8080/"
        },
        "id": "gExcYhONJwWY",
        "outputId": "a466a9f2-f3d9-4750-f289-65363204f878"
      },
      "execution_count": 9,
      "outputs": [
        {
          "output_type": "stream",
          "name": "stdout",
          "text": [
            "   one  two\n",
            "a  1.0    1\n",
            "b  2.0    2\n",
            "c  3.0    3\n",
            "d  4.0    4\n",
            "e  5.0    5\n",
            "f  6.0    6\n",
            "g  NaN    7\n",
            "h  NaN    8\n"
          ]
        }
      ]
    },
    {
      "cell_type": "code",
      "source": [
        "import pandas as pd\n",
        "df={'one':pd.Series([1,2,3,4,5,6],index=['a','b','c','d','e','f']),'two':pd.Series([1,2,3,4,5,6,7,8],index=['a','b','c','d','e','f','g','h'])}\n",
        "d2=pd.DataFrame(df)\n",
        "print(d2['one'])"
      ],
      "metadata": {
        "colab": {
          "base_uri": "https://localhost:8080/"
        },
        "id": "1recqWbJMZ4W",
        "outputId": "d54f2383-1925-445b-fc6e-3d72fbe221c5"
      },
      "execution_count": 10,
      "outputs": [
        {
          "output_type": "stream",
          "name": "stdout",
          "text": [
            "a    1.0\n",
            "b    2.0\n",
            "c    3.0\n",
            "d    4.0\n",
            "e    5.0\n",
            "f    6.0\n",
            "g    NaN\n",
            "h    NaN\n",
            "Name: one, dtype: float64\n"
          ]
        }
      ]
    },
    {
      "cell_type": "code",
      "source": [
        "# THE BELOW CODE DEMONSTRATES HOW TO ADD ANY NEW COLUMN TO AN EXISTING DATAFRAME:\n",
        "import pandas as pd\n",
        "df={'one':pd.Series([1,2,3,4,5],index=['a','b','c','d','e',]),'two':pd.Series([1,2,3,4,5,6],index=['a','b','c','d','e','f'])}\n",
        "d2=pd.DataFrame(df)\n",
        "print(\"add new columan by passing serise :\")\n",
        "d2['three']=pd.Series([20,60,80],index=['a','b','c'])\n",
        "print(d2)\n",
        "print(\"add new column using existing DataFrame columns\")\n",
        "d2['four']=d2['one']+d2['three']\n",
        "print(d2)\n"
      ],
      "metadata": {
        "colab": {
          "base_uri": "https://localhost:8080/"
        },
        "id": "YlyILWDmMwrU",
        "outputId": "5caf60d1-1573-4f47-a85f-ec1d29be8a76"
      },
      "execution_count": 11,
      "outputs": [
        {
          "output_type": "stream",
          "name": "stdout",
          "text": [
            "add new columan by passing serise :\n",
            "   one  two  three\n",
            "a  1.0    1   20.0\n",
            "b  2.0    2   60.0\n",
            "c  3.0    3   80.0\n",
            "d  4.0    4    NaN\n",
            "e  5.0    5    NaN\n",
            "f  NaN    6    NaN\n",
            "add new column using existing DataFrame columns\n",
            "   one  two  three  four\n",
            "a  1.0    1   20.0  21.0\n",
            "b  2.0    2   60.0  62.0\n",
            "c  3.0    3   80.0  83.0\n",
            "d  4.0    4    NaN   NaN\n",
            "e  5.0    5    NaN   NaN\n",
            "f  NaN    6    NaN   NaN\n"
          ]
        }
      ]
    },
    {
      "cell_type": "code",
      "source": [
        "import pandas as pd\n",
        "df={'one':pd.Series([3,8],index=['a','b']),'two':pd.Series([1,2,3],index=['a','b','c'])}\n",
        "d2=pd.DataFrame(df)\n",
        "print(\"The DataFrame :\")\n",
        "print(d2)\n",
        "print(\"Delete the first column :\")\n",
        "del d2['one']\n",
        "print(d2)\n",
        "print(\"Delete the anothe column:\")\n",
        "d2.pop('two')\n",
        "print(d2)"
      ],
      "metadata": {
        "colab": {
          "base_uri": "https://localhost:8080/"
        },
        "id": "b0QoQLLoO4Mn",
        "outputId": "09a780da-66dd-4ac8-b1d1-7dd5dd0d45e4"
      },
      "execution_count": 13,
      "outputs": [
        {
          "output_type": "stream",
          "name": "stdout",
          "text": [
            "The DataFrame :\n",
            "   one  two\n",
            "a  3.0    1\n",
            "b  8.0    2\n",
            "c  NaN    3\n",
            "Delete the first column :\n",
            "   two\n",
            "a    1\n",
            "b    2\n",
            "c    3\n",
            "Delete the anothe column:\n",
            "Empty DataFrame\n",
            "Columns: []\n",
            "Index: [a, b, c]\n"
          ]
        }
      ]
    },
    {
      "cell_type": "code",
      "source": [
        "import pandas as pd\n",
        "df={'one':pd.Series([1,2,3,4,5],index=['a','b','c','d','e']),'two':pd.Series([1,2,3,4,5,6],index=['a','b','c','d','e','f'])}\n",
        "d2=pd.DataFrame(df)\n",
        "print(d2.loc['b'])"
      ],
      "metadata": {
        "colab": {
          "base_uri": "https://localhost:8080/"
        },
        "id": "Baq10TqSQCZI",
        "outputId": "93bbc9bd-85a3-4b16-c17e-bc951479039a"
      },
      "execution_count": 14,
      "outputs": [
        {
          "output_type": "stream",
          "name": "stdout",
          "text": [
            "one    2.0\n",
            "two    2.0\n",
            "Name: b, dtype: float64\n"
          ]
        }
      ]
    },
    {
      "cell_type": "code",
      "source": [
        "#SELECTION BY INTEGER LOCATION:\n",
        "import pandas as pd\n",
        "df={'one':pd.Series([1,2,3,4,5,6],index=['a','b','c','d','e','f']),'two':pd.Series([1,2,3,4,5,6,7,8],index=['a','b','c','d','e','f','g','h'])}\n",
        "d2=pd.DataFrame(df)\n",
        "print(d2.iloc[4])"
      ],
      "metadata": {
        "colab": {
          "base_uri": "https://localhost:8080/"
        },
        "id": "Z5n1M162QSKZ",
        "outputId": "4c8af7bb-0bdb-4247-dded-b5be110012fb"
      },
      "execution_count": 16,
      "outputs": [
        {
          "output_type": "stream",
          "name": "stdout",
          "text": [
            "one    5.0\n",
            "two    5.0\n",
            "Name: e, dtype: float64\n"
          ]
        }
      ]
    },
    {
      "cell_type": "code",
      "source": [
        "# SLICE ROWS:\n",
        "import pandas as pd\n",
        "df={'one':pd.Series([1,2,3,4,5,6],index=['a','b','c','d','e','f']),'two':pd.Series([1,2,3,4,5,6,7,8],index=['a','b','c','d','e','f','g','h'])}\n",
        "d2=pd.DataFrame(df)\n",
        "print(d2[3:5])"
      ],
      "metadata": {
        "colab": {
          "base_uri": "https://localhost:8080/"
        },
        "id": "rbOWE_XNQswK",
        "outputId": "ad0567e0-87ce-4d9f-8c90-090fc582ab49"
      },
      "execution_count": 17,
      "outputs": [
        {
          "output_type": "stream",
          "name": "stdout",
          "text": [
            "   one  two\n",
            "d  4.0    4\n",
            "e  5.0    5\n"
          ]
        }
      ]
    },
    {
      "cell_type": "code",
      "source": [
        "# ADDITION OF ROWS :\n",
        "import pandas as pd\n",
        "d=pd.DataFrame([[4,5],[7,8]],columns = ['x','y'])\n",
        "d2 = pd.DataFrame([[12,13],[14,15]],columns =['x','y'])\n",
        "d=d.append(d2)\n",
        "print(d)"
      ],
      "metadata": {
        "colab": {
          "base_uri": "https://localhost:8080/"
        },
        "id": "NNEfN2gwQ5ML",
        "outputId": "dca6a7ab-4b4c-4aec-ea22-b7f06567c67c"
      },
      "execution_count": 18,
      "outputs": [
        {
          "output_type": "stream",
          "name": "stdout",
          "text": [
            "    x   y\n",
            "0   4   5\n",
            "1   7   8\n",
            "0  12  13\n",
            "1  14  15\n"
          ]
        },
        {
          "output_type": "stream",
          "name": "stderr",
          "text": [
            "<ipython-input-18-8861ca1642c9>:5: FutureWarning: The frame.append method is deprecated and will be removed from pandas in a future version. Use pandas.concat instead.\n",
            "  d=d.append(d2)\n"
          ]
        }
      ]
    },
    {
      "cell_type": "code",
      "source": [
        "# DELETION ROWS:\n",
        "import pandas as pd\n",
        "a_d2=pd.DataFrame([[2,3],[4,6]],columns = ['x','y'])\n",
        "a_d2 = pd.DataFrame([[10,11],[12,14]],columns =['x','y'])\n",
        "a_d2=d2.append(a_d2)\n",
        "a_d2=a_d2.drop(0)"
      ],
      "metadata": {
        "colab": {
          "base_uri": "https://localhost:8080/"
        },
        "id": "krnni5mESBXw",
        "outputId": "31e22661-a81b-4605-e6d7-ce290f8e58fb"
      },
      "execution_count": 22,
      "outputs": [
        {
          "output_type": "stream",
          "name": "stderr",
          "text": [
            "<ipython-input-22-fabe04a7e461>:5: FutureWarning: The frame.append method is deprecated and will be removed from pandas in a future version. Use pandas.concat instead.\n",
            "  a_d2=d2.append(a_d2)\n"
          ]
        }
      ]
    }
  ]
}