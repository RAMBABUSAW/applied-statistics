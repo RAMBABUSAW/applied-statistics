{
  "nbformat": 4,
  "nbformat_minor": 0,
  "metadata": {
    "colab": {
      "provenance": []
    },
    "kernelspec": {
      "name": "python3",
      "display_name": "Python 3"
    },
    "language_info": {
      "name": "python"
    }
  },
  "cells": [
    {
      "cell_type": "code",
      "execution_count": 6,
      "metadata": {
        "colab": {
          "base_uri": "https://localhost:8080/"
        },
        "id": "9p2-Au030tUJ",
        "outputId": "67459096-c696-4480-f613-32739ddbae66"
      },
      "outputs": [
        {
          "output_type": "stream",
          "name": "stdout",
          "text": [
            "new creat array:246814\r\n"
          ]
        }
      ],
      "source": [
        "# creating arrays :\n",
        "import array\n",
        "arr = array.array('i',[2,4,6,8,14])\n",
        "print (\"new creat array:\",end=\"\")\n",
        "for i in range (0,5):\n",
        " print(arr[i],end=\"\")\n",
        "print(\"\\r\")"
      ]
    },
    {
      "cell_type": "code",
      "source": [
        "import pandas as pd\n",
        "dict = {'name':[\"ram\",\"shyam\",\"shytam\",\"shubham\"],\"age\":[\"23\",\"45\",\"56\",\"78\"]}\n",
        "df = pd.DataFrame(dict,index=[True,True,False,True])\n",
        "print(df)\n",
        "\n",
        "print(\"\\n accessing the name and age  only true value :\")\n",
        "print(df.loc[True])"
      ],
      "metadata": {
        "colab": {
          "base_uri": "https://localhost:8080/"
        },
        "id": "HvqAOb4V4TQ8",
        "outputId": "245eb4d7-f53e-46af-fec5-e7438d54f0ab"
      },
      "execution_count": 11,
      "outputs": [
        {
          "output_type": "stream",
          "name": "stdout",
          "text": [
            "          name age\n",
            "True       ram  23\n",
            "True     shyam  45\n",
            "False   shytam  56\n",
            "True   shubham  78\n",
            "\n",
            " accessing the name and age  only true value :\n",
            "         name age\n",
            "True      ram  23\n",
            "True    shyam  45\n",
            "True  shubham  78\n"
          ]
        }
      ]
    },
    {
      "cell_type": "code",
      "source": [
        "#Reshaping array\n",
        "import numpy as np\n",
        "arr = np.arange(24)\n",
        "print(\"the orignal array :\\n\",arr)\n",
        "# shape array with 2 rows and 8 columns :\n",
        "arr = np.arange(24).reshape(3,8)\n",
        "print(\"\\n reshapedarray:\\n\",arr)\n",
        "arr=np.arange(24).reshape(8,3)\n",
        "print(\"\\nreshaped array:\\n\",arr)\n",
        "\n",
        "\n",
        "\n",
        "\n",
        "\n",
        "\n",
        "\n"
      ],
      "metadata": {
        "colab": {
          "base_uri": "https://localhost:8080/"
        },
        "id": "3VRT141Y7Ceo",
        "outputId": "f6be73e5-6b8f-45ed-e3f7-6cc07e782e7f"
      },
      "execution_count": 17,
      "outputs": [
        {
          "output_type": "stream",
          "name": "stdout",
          "text": [
            "the orignal array :\n",
            " [ 0  1  2  3  4  5  6  7  8  9 10 11 12 13 14 15 16 17 18 19 20 21 22 23]\n",
            "\n",
            " reshapedarray:\n",
            " [[ 0  1  2  3  4  5  6  7]\n",
            " [ 8  9 10 11 12 13 14 15]\n",
            " [16 17 18 19 20 21 22 23]]\n",
            "\n",
            "reshaped array:\n",
            " [[ 0  1  2]\n",
            " [ 3  4  5]\n",
            " [ 6  7  8]\n",
            " [ 9 10 11]\n",
            " [12 13 14]\n",
            " [15 16 17]\n",
            " [18 19 20]\n",
            " [21 22 23]]\n"
          ]
        }
      ]
    }
  ]
}